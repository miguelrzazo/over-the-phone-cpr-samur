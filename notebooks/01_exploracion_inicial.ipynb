{
 "cells": [
  {
   "cell_type": "markdown",
   "id": "a1ca003e",
   "metadata": {},
   "source": [
    "# Exploración Inicial de los Datos de RCP Telefónica\n",
    "\n",
    "Este notebook contiene los primeros pasos para analizar los datos del proyecto de RCP telefónica."
   ]
  },
  {
   "cell_type": "markdown",
   "id": "fc3c88e7",
   "metadata": {},
   "source": [
    "## Importar Librerías Necesarias\n",
    "\n",
    "Importamos las librerías principales para el análisis de datos y visualización."
   ]
  },
  {
   "cell_type": "code",
   "execution_count": null,
   "id": "3438d1bb",
   "metadata": {},
   "outputs": [],
   "source": [
    "import pandas as pd\n",
    "import numpy as np\n",
    "import matplotlib.pyplot as plt\n",
    "import seaborn as sns\n",
    "\n",
    "# Configuración de gráficos\n",
    "%matplotlib inline\n",
    "sns.set(style=\"whitegrid\")"
   ]
  },
  {
   "cell_type": "markdown",
   "id": "26c3b38d",
   "metadata": {},
   "source": [
    "## Cargar y Visualizar los Datos\n",
    "\n",
    "Cargamos los archivos de datos desde la carpeta `data` y mostramos las primeras filas de cada uno."
   ]
  },
  {
   "cell_type": "code",
   "execution_count": null,
   "id": "ebe2001e",
   "metadata": {},
   "outputs": [],
   "source": [
    "# Cargar el archivo cleaned_data.csv y mostrar el número de filas\n",
    "df = pd.read_csv('../data/cleaned_data.csv')\n",
    "print(f\"Número de filas cargadas: {df.shape[0]}\")\n",
    "df.head()"
   ]
  }
 ],
 "metadata": {
  "kernelspec": {
   "display_name": ".venv",
   "language": "python",
   "name": "python3"
  },
  "language_info": {
   "codemirror_mode": {
    "name": "ipython",
    "version": 3
   },
   "file_extension": ".py",
   "mimetype": "text/x-python",
   "name": "python",
   "nbconvert_exporter": "python",
   "pygments_lexer": "ipython3",
   "version": "3.13.5"
  }
 },
 "nbformat": 4,
 "nbformat_minor": 5
}
