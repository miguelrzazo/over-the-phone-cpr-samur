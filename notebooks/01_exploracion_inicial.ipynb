{
 "cells": [
  {
   "cell_type": "markdown",
   "id": "a1ca003e",
   "metadata": {},
   "source": [
    "# Exploración Inicial de los Datos de RCP Telefónica\n",
    "\n",
    "Este notebook contiene los primeros pasos para analizar los datos del proyecto de RCP telefónica."
   ]
  },
  {
   "cell_type": "markdown",
   "id": "fc3c88e7",
   "metadata": {},
   "source": [
    "## Importar Librerías Necesarias\n",
    "\n",
    "Importamos las librerías principales para el análisis de datos y visualización."
   ]
  },
  {
   "cell_type": "code",
   "execution_count": 3,
   "id": "3438d1bb",
   "metadata": {},
   "outputs": [],
   "source": [
    "import pandas as pd\n",
    "import numpy as np\n",
    "import matplotlib.pyplot as plt\n",
    "import seaborn as sns\n",
    "\n",
    "# Configuración de gráficos\n",
    "%matplotlib inline\n",
    "sns.set(style=\"whitegrid\")"
   ]
  },
  {
   "cell_type": "markdown",
   "id": "26c3b38d",
   "metadata": {},
   "source": [
    "## Cargar y Visualizar los Datos\n",
    "\n",
    "Cargamos los archivos de datos desde la carpeta `data` y mostramos las primeras filas de cada uno."
   ]
  },
  {
   "cell_type": "code",
   "execution_count": null,
   "id": "ebe2001e",
   "metadata": {},
   "outputs": [],
   "source": [
    "# Cargar el archivo cleaned_data.csv y mostrar el número de filas\n",
    "df = pd.read_csv('../data/cleaned_data.csv')\n",
    "print(f\"Número de filas cargadas: {df.shape[0]}\")\n",
    "df.head()"
   ]
  },
  {
   "cell_type": "code",
   "execution_count": 4,
   "id": "89ab0825",
   "metadata": {},
   "outputs": [
    {
     "name": "stdout",
     "output_type": "stream",
     "text": [
      "Archivos en data: ['raw_data_cpr.csv', 'Rosario Conde RCP TranstelefÃ³nica.xlsx', 'raw_data_cpr_survive.csv', 'cleaned_data.csv', 'cleaned_data_with_missing.csv']\n",
      "\n",
      "Primeras filas de raw_data_cpr.csv:\n"
     ]
    },
    {
     "data": {
      "text/html": [
       "<div>\n",
       "<style scoped>\n",
       "    .dataframe tbody tr th:only-of-type {\n",
       "        vertical-align: middle;\n",
       "    }\n",
       "\n",
       "    .dataframe tbody tr th {\n",
       "        vertical-align: top;\n",
       "    }\n",
       "\n",
       "    .dataframe thead th {\n",
       "        text-align: right;\n",
       "    }\n",
       "</style>\n",
       "<table border=\"1\" class=\"dataframe\">\n",
       "  <thead>\n",
       "    <tr style=\"text-align: right;\">\n",
       "      <th></th>\n",
       "      <th>NUM INFORME;FECHA_LLAMADA;CODIGO_INICIAL;CODIGO FINAL;CODIGO PATOLOGICO;EDAD;SEXO;RCP_TRANSTELEFONICA;FC;FR;TAS;SAT O2;Consulta;Antecedentes;Técnicas;Evolución;Hospital;6 HORAS;24 horas;7 días;C0_C1;C1_C2;C2_C3;C3_C4;C4_C5;C5_FIN</th>\n",
       "    </tr>\n",
       "  </thead>\n",
       "  <tbody>\n",
       "    <tr>\n",
       "      <th>0</th>\n",
       "      <td>1122;03/01/2024 19:03;3.1 - PARADA CARDIORESPI...</td>\n",
       "    </tr>\n",
       "    <tr>\n",
       "      <th>1</th>\n",
       "      <td>DIABETES TIPO 2</td>\n",
       "    </tr>\n",
       "    <tr>\n",
       "      <th>2</th>\n",
       "      <td>PROTESIS MIIZDO</td>\n",
       "    </tr>\n",
       "    <tr>\n",
       "      <th>3</th>\n",
       "      <td>TTO AAS GABAPENTINA  ATORVASTATINA INSULINA SE...</td>\n",
       "    </tr>\n",
       "    <tr>\n",
       "      <th>4</th>\n",
       "      <td>3937;12/01/2024 08:00;3.5 - INTOXICACIÓN POR D...</td>\n",
       "    </tr>\n",
       "  </tbody>\n",
       "</table>\n",
       "</div>"
      ],
      "text/plain": [
       "  NUM INFORME;FECHA_LLAMADA;CODIGO_INICIAL;CODIGO FINAL;CODIGO PATOLOGICO;EDAD;SEXO;RCP_TRANSTELEFONICA;FC;FR;TAS;SAT O2;Consulta;Antecedentes;Técnicas;Evolución;Hospital;6 HORAS;24 horas;7 días;C0_C1;C1_C2;C2_C3;C3_C4;C4_C5;C5_FIN\n",
       "0  1122;03/01/2024 19:03;3.1 - PARADA CARDIORESPI...                                                                                                                                                                                   \n",
       "1                                   DIABETES TIPO 2                                                                                                                                                                                    \n",
       "2                                   PROTESIS MIIZDO                                                                                                                                                                                    \n",
       "3  TTO AAS GABAPENTINA  ATORVASTATINA INSULINA SE...                                                                                                                                                                                   \n",
       "4  3937;12/01/2024 08:00;3.5 - INTOXICACIÓN POR D...                                                                                                                                                                                   "
      ]
     },
     "metadata": {},
     "output_type": "display_data"
    },
    {
     "ename": "ParserError",
     "evalue": "Error tokenizing data. C error: Expected 5 fields in line 5, saw 7\n",
     "output_type": "error",
     "traceback": [
      "\u001b[31m---------------------------------------------------------------------------\u001b[39m",
      "\u001b[31mParserError\u001b[39m                               Traceback (most recent call last)",
      "\u001b[36mCell\u001b[39m\u001b[36m \u001b[39m\u001b[32mIn[4]\u001b[39m\u001b[32m, line 12\u001b[39m\n\u001b[32m     10\u001b[39m dfs = {}\n\u001b[32m     11\u001b[39m \u001b[38;5;28;01mfor\u001b[39;00m file \u001b[38;5;129;01min\u001b[39;00m csv_files:\n\u001b[32m---> \u001b[39m\u001b[32m12\u001b[39m     df = \u001b[43mpd\u001b[49m\u001b[43m.\u001b[49m\u001b[43mread_csv\u001b[49m\u001b[43m(\u001b[49m\u001b[33;43mf\u001b[39;49m\u001b[33;43m'\u001b[39;49m\u001b[33;43m../data/\u001b[39;49m\u001b[38;5;132;43;01m{\u001b[39;49;00m\u001b[43mfile\u001b[49m\u001b[38;5;132;43;01m}\u001b[39;49;00m\u001b[33;43m'\u001b[39;49m\u001b[43m)\u001b[49m\n\u001b[32m     13\u001b[39m     dfs[file] = df\n\u001b[32m     14\u001b[39m     \u001b[38;5;28mprint\u001b[39m(\u001b[33mf\u001b[39m\u001b[33m'\u001b[39m\u001b[38;5;130;01m\\n\u001b[39;00m\u001b[33mPrimeras filas de \u001b[39m\u001b[38;5;132;01m{\u001b[39;00mfile\u001b[38;5;132;01m}\u001b[39;00m\u001b[33m:\u001b[39m\u001b[33m'\u001b[39m)\n",
      "\u001b[36mFile \u001b[39m\u001b[32m~/Desktop/SAMUR/RCP Transtelefonica/.venv/lib/python3.13/site-packages/pandas/io/parsers/readers.py:1026\u001b[39m, in \u001b[36mread_csv\u001b[39m\u001b[34m(filepath_or_buffer, sep, delimiter, header, names, index_col, usecols, dtype, engine, converters, true_values, false_values, skipinitialspace, skiprows, skipfooter, nrows, na_values, keep_default_na, na_filter, verbose, skip_blank_lines, parse_dates, infer_datetime_format, keep_date_col, date_parser, date_format, dayfirst, cache_dates, iterator, chunksize, compression, thousands, decimal, lineterminator, quotechar, quoting, doublequote, escapechar, comment, encoding, encoding_errors, dialect, on_bad_lines, delim_whitespace, low_memory, memory_map, float_precision, storage_options, dtype_backend)\u001b[39m\n\u001b[32m   1013\u001b[39m kwds_defaults = _refine_defaults_read(\n\u001b[32m   1014\u001b[39m     dialect,\n\u001b[32m   1015\u001b[39m     delimiter,\n\u001b[32m   (...)\u001b[39m\u001b[32m   1022\u001b[39m     dtype_backend=dtype_backend,\n\u001b[32m   1023\u001b[39m )\n\u001b[32m   1024\u001b[39m kwds.update(kwds_defaults)\n\u001b[32m-> \u001b[39m\u001b[32m1026\u001b[39m \u001b[38;5;28;01mreturn\u001b[39;00m \u001b[43m_read\u001b[49m\u001b[43m(\u001b[49m\u001b[43mfilepath_or_buffer\u001b[49m\u001b[43m,\u001b[49m\u001b[43m \u001b[49m\u001b[43mkwds\u001b[49m\u001b[43m)\u001b[49m\n",
      "\u001b[36mFile \u001b[39m\u001b[32m~/Desktop/SAMUR/RCP Transtelefonica/.venv/lib/python3.13/site-packages/pandas/io/parsers/readers.py:626\u001b[39m, in \u001b[36m_read\u001b[39m\u001b[34m(filepath_or_buffer, kwds)\u001b[39m\n\u001b[32m    623\u001b[39m     \u001b[38;5;28;01mreturn\u001b[39;00m parser\n\u001b[32m    625\u001b[39m \u001b[38;5;28;01mwith\u001b[39;00m parser:\n\u001b[32m--> \u001b[39m\u001b[32m626\u001b[39m     \u001b[38;5;28;01mreturn\u001b[39;00m \u001b[43mparser\u001b[49m\u001b[43m.\u001b[49m\u001b[43mread\u001b[49m\u001b[43m(\u001b[49m\u001b[43mnrows\u001b[49m\u001b[43m)\u001b[49m\n",
      "\u001b[36mFile \u001b[39m\u001b[32m~/Desktop/SAMUR/RCP Transtelefonica/.venv/lib/python3.13/site-packages/pandas/io/parsers/readers.py:1923\u001b[39m, in \u001b[36mTextFileReader.read\u001b[39m\u001b[34m(self, nrows)\u001b[39m\n\u001b[32m   1916\u001b[39m nrows = validate_integer(\u001b[33m\"\u001b[39m\u001b[33mnrows\u001b[39m\u001b[33m\"\u001b[39m, nrows)\n\u001b[32m   1917\u001b[39m \u001b[38;5;28;01mtry\u001b[39;00m:\n\u001b[32m   1918\u001b[39m     \u001b[38;5;66;03m# error: \"ParserBase\" has no attribute \"read\"\u001b[39;00m\n\u001b[32m   1919\u001b[39m     (\n\u001b[32m   1920\u001b[39m         index,\n\u001b[32m   1921\u001b[39m         columns,\n\u001b[32m   1922\u001b[39m         col_dict,\n\u001b[32m-> \u001b[39m\u001b[32m1923\u001b[39m     ) = \u001b[38;5;28;43mself\u001b[39;49m\u001b[43m.\u001b[49m\u001b[43m_engine\u001b[49m\u001b[43m.\u001b[49m\u001b[43mread\u001b[49m\u001b[43m(\u001b[49m\u001b[43m  \u001b[49m\u001b[38;5;66;43;03m# type: ignore[attr-defined]\u001b[39;49;00m\n\u001b[32m   1924\u001b[39m \u001b[43m        \u001b[49m\u001b[43mnrows\u001b[49m\n\u001b[32m   1925\u001b[39m \u001b[43m    \u001b[49m\u001b[43m)\u001b[49m\n\u001b[32m   1926\u001b[39m \u001b[38;5;28;01mexcept\u001b[39;00m \u001b[38;5;167;01mException\u001b[39;00m:\n\u001b[32m   1927\u001b[39m     \u001b[38;5;28mself\u001b[39m.close()\n",
      "\u001b[36mFile \u001b[39m\u001b[32m~/Desktop/SAMUR/RCP Transtelefonica/.venv/lib/python3.13/site-packages/pandas/io/parsers/c_parser_wrapper.py:234\u001b[39m, in \u001b[36mCParserWrapper.read\u001b[39m\u001b[34m(self, nrows)\u001b[39m\n\u001b[32m    232\u001b[39m \u001b[38;5;28;01mtry\u001b[39;00m:\n\u001b[32m    233\u001b[39m     \u001b[38;5;28;01mif\u001b[39;00m \u001b[38;5;28mself\u001b[39m.low_memory:\n\u001b[32m--> \u001b[39m\u001b[32m234\u001b[39m         chunks = \u001b[38;5;28;43mself\u001b[39;49m\u001b[43m.\u001b[49m\u001b[43m_reader\u001b[49m\u001b[43m.\u001b[49m\u001b[43mread_low_memory\u001b[49m\u001b[43m(\u001b[49m\u001b[43mnrows\u001b[49m\u001b[43m)\u001b[49m\n\u001b[32m    235\u001b[39m         \u001b[38;5;66;03m# destructive to chunks\u001b[39;00m\n\u001b[32m    236\u001b[39m         data = _concatenate_chunks(chunks)\n",
      "\u001b[36mFile \u001b[39m\u001b[32mpandas/_libs/parsers.pyx:838\u001b[39m, in \u001b[36mpandas._libs.parsers.TextReader.read_low_memory\u001b[39m\u001b[34m()\u001b[39m\n",
      "\u001b[36mFile \u001b[39m\u001b[32mpandas/_libs/parsers.pyx:905\u001b[39m, in \u001b[36mpandas._libs.parsers.TextReader._read_rows\u001b[39m\u001b[34m()\u001b[39m\n",
      "\u001b[36mFile \u001b[39m\u001b[32mpandas/_libs/parsers.pyx:874\u001b[39m, in \u001b[36mpandas._libs.parsers.TextReader._tokenize_rows\u001b[39m\u001b[34m()\u001b[39m\n",
      "\u001b[36mFile \u001b[39m\u001b[32mpandas/_libs/parsers.pyx:891\u001b[39m, in \u001b[36mpandas._libs.parsers.TextReader._check_tokenize_status\u001b[39m\u001b[34m()\u001b[39m\n",
      "\u001b[36mFile \u001b[39m\u001b[32mpandas/_libs/parsers.pyx:2061\u001b[39m, in \u001b[36mpandas._libs.parsers.raise_parser_error\u001b[39m\u001b[34m()\u001b[39m\n",
      "\u001b[31mParserError\u001b[39m: Error tokenizing data. C error: Expected 5 fields in line 5, saw 7\n"
     ]
    }
   ],
   "source": [
    "# Cargar los datos\n",
    "import os\n",
    "\n",
    "# Listar archivos en la carpeta data\n",
    "archivos = os.listdir('../data')\n",
    "print('Archivos en data:', archivos)\n",
    "\n",
    "# Cargar archivos CSV relevantes\n",
    "csv_files = [f for f in archivos if f.endswith('.csv')]\n",
    "dfs = {}\n",
    "for file in csv_files:\n",
    "    df = pd.read_csv(f'../data/{file}')\n",
    "    dfs[file] = df\n",
    "    print(f'\\nPrimeras filas de {file}:')\n",
    "    display(df.head())"
   ]
  },
  {
   "cell_type": "markdown",
   "id": "b916cc81",
   "metadata": {},
   "source": [
    "## Exploración Inicial de los Datos\n",
    "\n",
    "Revisamos la estructura, tipos de variables y valores nulos de los datos principales."
   ]
  },
  {
   "cell_type": "code",
   "execution_count": null,
   "id": "8d9e86a8",
   "metadata": {},
   "outputs": [],
   "source": [
    "# Exploración de estructura y valores nulos\n",
    "for nombre, df in dfs.items():\n",
    "    print(f'\\nInformación de {nombre}:')\n",
    "    display(df.info())\n",
    "    print(f'\\nValores nulos en {nombre}:')\n",
    "    display(df.isnull().sum())"
   ]
  },
  {
   "cell_type": "markdown",
   "id": "4218c4c1",
   "metadata": {},
   "source": [
    "## Estadísticas Descriptivas Básicas\n",
    "\n",
    "Generamos estadísticas descriptivas para las variables numéricas de los datos principales."
   ]
  },
  {
   "cell_type": "code",
   "execution_count": null,
   "id": "f019bd8a",
   "metadata": {},
   "outputs": [],
   "source": [
    "# Estadísticas descriptivas\n",
    "for nombre, df in dfs.items():\n",
    "    print(f'\\nEstadísticas descriptivas de {nombre}:')\n",
    "    display(df.describe())"
   ]
  },
  {
   "cell_type": "markdown",
   "id": "903b195f",
   "metadata": {},
   "source": [
    "## Visualización de Distribuciones de Variables\n",
    "\n",
    "A continuación, se muestran histogramas y diagramas de caja para las variables principales."
   ]
  },
  {
   "cell_type": "code",
   "execution_count": null,
   "id": "dab0574b",
   "metadata": {},
   "outputs": [],
   "source": [
    "# Visualización de variables numéricas\n",
    "for nombre, df in dfs.items():\n",
    "    num_cols = df.select_dtypes(include=[np.number]).columns\n",
    "    if len(num_cols) > 0:\n",
    "        print(f'\\nHistogramas de {nombre}:')\n",
    "        df[num_cols].hist(bins=20, figsize=(12, 6))\n",
    "        plt.suptitle(f'Histogramas de {nombre}')\n",
    "        plt.show()\n",
    "        print(f'\\nBoxplots de {nombre}:')\n",
    "        df[num_cols].plot(kind='box', subplots=True, layout=(1, len(num_cols)), figsize=(12, 4), sharey=False)\n",
    "        plt.suptitle(f'Boxplots de {nombre}')\n",
    "        plt.show()"
   ]
  }
 ],
 "metadata": {
  "kernelspec": {
   "display_name": ".venv",
   "language": "python",
   "name": "python3"
  },
  "language_info": {
   "codemirror_mode": {
    "name": "ipython",
    "version": 3
   },
   "file_extension": ".py",
   "mimetype": "text/x-python",
   "name": "python",
   "nbconvert_exporter": "python",
   "pygments_lexer": "ipython3",
   "version": "3.13.5"
  }
 },
 "nbformat": 4,
 "nbformat_minor": 5
}
