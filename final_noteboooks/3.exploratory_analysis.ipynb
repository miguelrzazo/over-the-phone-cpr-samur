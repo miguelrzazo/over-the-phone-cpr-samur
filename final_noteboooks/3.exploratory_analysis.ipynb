{
 "cells": [
  {
   "cell_type": "markdown",
   "id": "9c3b89ea",
   "metadata": {},
   "source": [
    "# 3. Análisis Inferencial y Pruebas de Hipótesis\n",
    "\n",
    "**Objetivo**: Evaluar las hipótesis del estudio mediante análisis estadístico inferencial, comparando los outcomes entre los diferentes grupos de RCP.\n",
    "\n",
    "**Hipótesis principales**:\n",
    "1. La RCP transtelefónica mejora los outcomes comparado con sin RCP previa\n",
    "2. La RCP transtelefónica mejora el CPC favorable comparado con sin RCP previa  \n",
    "3. El beneficio es mayor en pacientes <65 años\n",
    "4. El beneficio relativo es mayor cuando el tiempo de llegada es mayor a la mediana\n",
    "\n",
    "**Dataset**: `datos_con_cpc_valido.csv`"
   ]
  },
  {
   "cell_type": "markdown",
   "id": "06dd3656",
   "metadata": {},
   "source": [
    "## 1. Configuración y Carga de Datos"
   ]
  },
  {
   "cell_type": "code",
   "execution_count": 115,
   "id": "f4797317",
   "metadata": {},
   "outputs": [
    {
     "name": "stdout",
     "output_type": "stream",
     "text": [
      "✅ Configuración completada.\n"
     ]
    }
   ],
   "source": [
    "# Importar librerías necesarias\n",
    "import pandas as pd\n",
    "import numpy as np\n",
    "import matplotlib.pyplot as plt\n",
    "import seaborn as sns\n",
    "import os\n",
    "import json\n",
    "from scipy.stats import chi2_contingency, fisher_exact, mannwhitneyu, kruskal\n",
    "from scipy import stats\n",
    "import statsmodels.api as sm\n",
    "from sklearn.linear_model import LogisticRegression, LinearRegression\n",
    "from sklearn.metrics import roc_auc_score, roc_curve\n",
    "from sklearn.preprocessing import StandardScaler\n",
    "import warnings\n",
    "warnings.filterwarnings('ignore')\n",
    "\n",
    "# Configuración de directorios\n",
    "OUTPUT_DIR = 'outputs_inferencia'\n",
    "if not os.path.exists(OUTPUT_DIR):\n",
    "    os.makedirs(OUTPUT_DIR)\n",
    "    print(f\"Directorio de outputs creado en: {OUTPUT_DIR}\")\n",
    "\n",
    "# Configuración visual\n",
    "plt.rcParams.update({\n",
    "    'font.family': 'sans-serif',\n",
    "    'font.size': 10,\n",
    "    'axes.titlesize': 12,\n",
    "    'figure.dpi': 300,\n",
    "    'savefig.dpi': 300,\n",
    "    'figure.facecolor': 'white',\n",
    "})\n",
    "\n",
    "COLORS = {\n",
    "    'azul_principal': '#304C89',\n",
    "    'azul_oscuro': '#2E282A',\n",
    "    'azul_medio': '#58A4B0',\n",
    "    'gris_claro': '#E4E6C3',\n",
    "    'naranja': '#FA8334',\n",
    "    'azul_claro': '#7FC7D9',\n",
    "    'azul_pastel': '#B7D6E8',\n",
    "    'gris_medio': '#B0B3A1'\n",
    "}\n",
    "\n",
    "print(\"✅ Configuración completada.\")"
   ]
  },
  {
   "cell_type": "code",
   "execution_count": 116,
   "id": "b64d7c3f",
   "metadata": {},
   "outputs": [
    {
     "name": "stdout",
     "output_type": "stream",
     "text": [
      "✅ Datos cargados correctamente: 500 filas y 13 columnas.\n",
      "📊 Columnas principales: ['RCP_TRANSTELEFONICA', 'RCP_TESTIGOS', 'Tiempo_Rcp', 'ROSC', 'Supervivencia_7dias', 'CPC']\n"
     ]
    }
   ],
   "source": [
    "# Cargar datos\n",
    "DATA_PATH = '../data/3.cleaned_data/datos_con_cpc_valido.csv'\n",
    "\n",
    "try:\n",
    "    df = pd.read_csv(DATA_PATH)\n",
    "    print(f\"✅ Datos cargados correctamente: {df.shape[0]} filas y {df.shape[1]} columnas.\")\n",
    "    \n",
    "    # Limpiar nombres de columnas\n",
    "    df.columns = df.columns.str.strip()\n",
    "    \n",
    "    # Limpiar variables categóricas\n",
    "    for col in ['RCP_TESTIGOS', 'SEXO']:\n",
    "        if col in df.columns:\n",
    "            df[col] = df[col].str.strip()\n",
    "    \n",
    "    print(f\"📊 Columnas principales: {[col for col in df.columns if any(x in col.upper() for x in ['RCP', 'SUPERVIVENCIA', 'CPC', 'ROSC'])]}\")\n",
    "    \n",
    "except FileNotFoundError:\n",
    "    print(f\"❌ Error: No se encontró el archivo en {DATA_PATH}\")\n",
    "    df = pd.DataFrame()"
   ]
  }
 ],
 "metadata": {
  "language_info": {
   "name": "python"
  }
 },
 "nbformat": 4,
 "nbformat_minor": 5
}
