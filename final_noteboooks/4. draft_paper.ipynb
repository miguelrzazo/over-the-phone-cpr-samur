{
 "cells": [
  {
   "cell_type": "markdown",
   "id": "dba4e986",
   "metadata": {},
   "source": [
    "# # Efectos de la Reanimacion Cardiopulmonar Extrahospitalaria Transtelefonica en la supervivencia del paciente en la ciudad de Madrid\\n,\n",
    "\n",
    "## Introducccion\n",
    "Reanimacion Cardiopulmonar (RCP)\n",
    "Servicio de Atencion municipal de urgencia y rescate (SAMUR)"
   ]
  },
  {
   "cell_type": "markdown",
   "id": "b222d637",
   "metadata": {},
   "source": [
    "## Objetivo\n",
    "El objetivo de este estudio es este estudio es comparar el Retorno de la Circulacion Espontanea (ROSC, por sus siglas en ingles) y la supervivencia del paciente a los 7 dias, comparando 3 grupos de pacientes: Aquellos que no recibieron RCP previa a la llegada de la primera unidad de Soporte Vital Avanzado (SVA); aquellos que recibieron RCP básica sin soporte telefónico; y aquellos que han recibido RCP transtelefonica hasta la llegada de la SVA."
   ]
  },
  {
   "cell_type": "markdown",
   "id": "9a3b8242",
   "metadata": {},
   "source": [
    "## Metodologia,\n",
    "    \"Esto es un estudio observacional de los datos proporcionados por SAMUR-Proteccion Civil, el servicio de emergencias extrahospitalarias de la ciudad de Madrid. Los datos fueron extraidos de la base de datos de SAMUR-PC y analizados utilizando Python y Pandas. Estos datos corresponden a todas las paradas cardiorrespiratorias atendidad por este servicio de emergencias extrahospitalaria en el espacio comprendido entre el 1 de julio de 2023 al 31 de junio de 2025. A continuación se presentan los datos a estudiar."
   ]
  },
  {
   "cell_type": "code",
   "execution_count": 3,
   "id": "2c8d7d70",
   "metadata": {},
   "outputs": [],
   "source": [
    "## Datos y tablas, histograma, etc."
   ]
  },
  {
   "cell_type": "code",
   "execution_count": null,
   "id": "8707f13c",
   "metadata": {},
   "outputs": [],
   "source": []
  },
  {
   "cell_type": "code",
   "execution_count": null,
   "id": "cf680599",
   "metadata": {},
   "outputs": [
    {
     "name": "stdout",
     "output_type": "stream",
     "text": [
      "Exportando notebook a HTML (sin código): /Users/miguelrosa/Desktop/RCP Transtelefonica/final_noteboooks/4_20250727_224709.html\n",
      "✅ HTML generado correctamente en: /Users/miguelrosa/Desktop/RCP Transtelefonica/final_noteboooks/4_20250727_224709.html\n",
      "   Ruta completa: /Users/miguelrosa/Desktop/RCP Transtelefonica/final_noteboooks/4_20250727_224709.html\n",
      "✅ HTML generado correctamente en: /Users/miguelrosa/Desktop/RCP Transtelefonica/final_noteboooks/4_20250727_224709.html\n",
      "   Ruta completa: /Users/miguelrosa/Desktop/RCP Transtelefonica/final_noteboooks/4_20250727_224709.html\n"
     ]
    },
    {
     "data": {
      "text/html": [
       "<a href=\"/Users/miguelrosa/Desktop/RCP Transtelefonica/final_noteboooks/4_20250727_224709.html\" target=\"_blank\">Abrir HTML generado</a>"
      ],
      "text/plain": [
       "<IPython.core.display.HTML object>"
      ]
     },
     "metadata": {},
     "output_type": "display_data"
    }
   ],
   "source": [
    "import os\n",
    "import sys\n",
    "import subprocess\n",
    "import datetime\n",
    "from IPython.display import display, Markdown\n",
    "\n",
    "# Obtener la ruta del notebook actual\n",
    "notebook_path = os.path.abspath('4. draft_paper.ipynb')\n",
    "notebook_dir = os.path.dirname(notebook_path)\n",
    "notebook_name = os.path.basename(notebook_path).split('.')[0]\n",
    "\n",
    "# Crear nombre de archivo con timestamp\n",
    "timestamp = datetime.datetime.now().strftime(\"%Y%m%d_%H%M%S\")\n",
    "pdf_filename = f\"{notebook_name}_{timestamp}.pdf\"\n",
    "pdf_path = os.path.join(notebook_dir, pdf_filename)\n",
    "\n",
    "print(f\"Exportando notebook a PDF (sin código): {pdf_path}\")\n",
    "print(\"Este proceso puede tardar unos segundos...\")\n",
    "\n",
    "# Método 1: Usando weasyprint (requiere instalación previa)\n",
    "try:\n",
    "    # Primero convertir a HTML (paso intermedio)\n",
    "    temp_html = os.path.join(notebook_dir, f\"temp_{timestamp}.html\")\n",
    "    \n",
    "    print(\"Paso 1/3: Convirtiendo a HTML temporal...\")\n",
    "    subprocess.run([\n",
    "        'jupyter', 'nbconvert',\n",
    "        '--to', 'html',\n",
    "        '--no-input',  # Oculta las celdas de entrada (código)\n",
    "        '--no-prompt',  # Oculta los números de celda\n",
    "        notebook_path,\n",
    "        '--output', os.path.join(notebook_dir, f\"temp_{timestamp}\")\n",
    "    ], check=True, capture_output=True)\n",
    "    \n",
    "    print(\"Paso 2/3: Intentando convertir HTML a PDF...\")\n",
    "    # Intentar primero con weasyprint (necesita instalación)\n",
    "    try:\n",
    "        from weasyprint import HTML\n",
    "        HTML(temp_html).write_pdf(pdf_path)\n",
    "        pdf_creado = True\n",
    "        print(\"✅ PDF creado con weasyprint\")\n",
    "    except ImportError:\n",
    "        # Si weasyprint no está instalado, usar wkhtmltopdf\n",
    "        try:\n",
    "            subprocess.run([\n",
    "                'wkhtmltopdf',\n",
    "                temp_html,\n",
    "                pdf_path\n",
    "            ], check=True, capture_output=True)\n",
    "            pdf_creado = True\n",
    "            print(\"✅ PDF creado con wkhtmltopdf\")\n",
    "        except (subprocess.SubprocessError, FileNotFoundError):\n",
    "            pdf_creado = False\n",
    "            print(\"❌ No se pudo convertir con wkhtmltopdf\")\n",
    "    \n",
    "    # Eliminar HTML temporal\n",
    "    print(\"Paso 3/3: Limpiando archivos temporales...\")\n",
    "    try:\n",
    "        os.remove(temp_html)\n",
    "    except:\n",
    "        pass\n",
    "        \n",
    "    if pdf_creado:\n",
    "        print(f\"\\n✅ PDF generado correctamente en: {pdf_path}\")\n",
    "        print(f\"   Ruta completa: {os.path.abspath(pdf_path)}\")\n",
    "    else:\n",
    "        raise Exception(\"No se pudo convertir el notebook a PDF\")\n",
    "\n",
    "except Exception as e:\n",
    "    print(f\"\\n❌ Error al generar el PDF: {str(e)}\")\n",
    "    \n",
    "    # Instrucciones para el usuario sobre cómo exportar manualmente\n",
    "    display(Markdown(\"\"\"\n",
    "    ## Instrucciones para exportar manualmente a PDF\n",
    "    \n",
    "    Para exportar este notebook a PDF sin mostrar el código:\n",
    "    \n",
    "    1. Ve a **Archivo > Exportar > PDF**\n",
    "    2. En las opciones, **desmarca** la casilla \"Include cell inputs\"\n",
    "    3. Haz clic en \"Export\"\n",
    "    4. Guarda el PDF en esta misma carpeta\n",
    "    \n",
    "    **Nota**: Este método es el más confiable y generará un PDF de alta calidad.\n",
    "    \"\"\"))\n",
    "    \n",
    "    print(f\"Guarda el PDF en: {notebook_dir}\")"
   ]
  }
 ],
 "metadata": {
  "kernelspec": {
   "display_name": "venv (3.13.5)",
   "language": "python",
   "name": "python3"
  },
  "language_info": {
   "codemirror_mode": {
    "name": "ipython",
    "version": 3
   },
   "file_extension": ".py",
   "mimetype": "text/x-python",
   "name": "python",
   "nbconvert_exporter": "python",
   "pygments_lexer": "ipython3",
   "version": "3.13.5"
  }
 },
 "nbformat": 4,
 "nbformat_minor": 5
}
